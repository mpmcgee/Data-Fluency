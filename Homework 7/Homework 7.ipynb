{
 "cells": [
  {
   "cell_type": "markdown",
   "metadata": {},
   "source": [
    "## Question 1 (3 points)\n",
    "#### Starting with an empty list, add the following three lists and print the final list.\n",
    "#### List 1= “SoIC”\n",
    "#### List2= “Data Fluency”\n",
    "#### List3= “Mon and Wednesday”"
   ]
  },
  {
   "cell_type": "code",
   "execution_count": 2,
   "metadata": {},
   "outputs": [
    {
     "name": "stdout",
     "output_type": "stream",
     "text": [
      "['SoIC', 'Data Fluency', 'Mon and Wednesday']\n"
     ]
    }
   ],
   "source": [
    "# create an empty list\n",
    "lists = []\n",
    "\n",
    "# create 3 lists containing one string each\n",
    "list1 = [\"SoIC\"]\n",
    "list2 = [\"Data Fluency\"]\n",
    "list3 = [\"Mon and Wednesday\"]\n",
    "\n",
    "# append all three lists to the empty list\n",
    "lists.append(list1+list2+list3)\n",
    "\n",
    "\n",
    "# print the final list\n",
    "for i in range(len(lists)):\n",
    "    print(lists[i])\n"
   ]
  },
  {
   "cell_type": "markdown",
   "metadata": {},
   "source": [
    "## Question 2 (6 points)\n",
    "#### Write a Python program to count the number of strings where the string length is 3 or more and the first and last character are same from a given list of strings. You may write a function that needs a parameter of list and your function should return the result to the caller. You also need to write a few lines to call your defined function and print the result to the brower."
   ]
  },
  {
   "cell_type": "code",
   "execution_count": 3,
   "metadata": {},
   "outputs": [
    {
     "name": "stdout",
     "output_type": "stream",
     "text": [
      "Please enter your next item or '*' to finish. 123\n",
      "Please enter your next item or '*' to finish. 131\n",
      "Please enter your next item or '*' to finish. 1234561\n",
      "Please enter your next item or '*' to finish. *\n",
      "Count: 2\n"
     ]
    }
   ],
   "source": [
    "# declare empty list\n",
    "inLst = []\n",
    "# declare empty list item\n",
    "lstItem = \"\"\n",
    "\n",
    "\n",
    "# while loop to take input until * is entered\n",
    "while lstItem != \"*\" and lstItem.find(\"*\") == -1:\n",
    "\n",
    "    lstItem = input(\"Please enter your next item or '*' to finish. \")\n",
    "    if lstItem.find(\"*\") == -1:\n",
    "        inLst.append(lstItem)\n",
    "\n",
    "\n",
    "# function to count strings in list that are at least 3 characters long and begin and end with the same letter\n",
    "def countStrings(lst):\n",
    "    cnt = 0\n",
    "    for i in range(len(lst)):\n",
    "        if int(len(lst[i]) >= 3) and (lst[i][0] == lst[i][-1]):\n",
    "            cnt = cnt + 1\n",
    "    return cnt\n",
    "\n",
    "\n",
    "# run list through function and get final count\n",
    "finalCount = (countStrings(inLst))\n",
    "\n",
    "# print final count\n",
    "print(\"Count: {}\" .format(finalCount))"
   ]
  },
  {
   "cell_type": "markdown",
   "metadata": {},
   "source": [
    "## Question 3 (6 points)\n",
    "#### Open a file “question3.txt”to write.\n",
    "#### 1. In this file write the names of the students: Alex, Jim, Mary, Annie, Bob, Tom, Jill, Hanna, Juliet, and Mat.\n",
    "#### Each name should be printed in new line.\n",
    "#### (3 points)\n",
    "#### 2. Append the following names: Henry, Zara, Kara. Read and print the complete list.\n",
    "#### (3 points)"
   ]
  },
  {
   "cell_type": "code",
   "execution_count": 4,
   "metadata": {},
   "outputs": [
    {
     "name": "stdout",
     "output_type": "stream",
     "text": [
      "Names: \n",
      "Alex\n",
      "Jim\n",
      "Mary\n",
      "Annie\n",
      "Bob\n",
      "Tom\n",
      "Jill\n",
      "Hanna\n",
      "Juliet\n",
      "Mat\n",
      "Henry\n",
      "Zara\n",
      "Kara\n",
      "\n"
     ]
    }
   ],
   "source": [
    "# open the question3.txt file for writing\n",
    "file1 = open(\"question3.txt\", \"w\")\n",
    "\n",
    "# make a list of the names to be written to the file\n",
    "names1 = [\"Alex\", \"Jim\", \"Mary\", \"Annie\", \"Bob\", \"Tom\", \"Jill\", \"Hanna\", \"Juliet\", \"Mat\"]\n",
    "\n",
    "# for loop to print names to file with a new line under each\n",
    "for i in range(len(names1)):\n",
    "    file1.write(names1[i] + \"\\n\")\n",
    "\n",
    "# close the question3.txt  file\n",
    "file1.close()\n",
    "\n",
    "# open the question3.txt  file for appending\n",
    "file1 = open(\"question3.txt\", \"a\")\n",
    "\n",
    "# make a second list of the names to be appended to the file\n",
    "names2 = [\"Henry\", \"Zara\", \"Kara\"]\n",
    "\n",
    "# append the second list of names to the file\n",
    "for i in range(len(names2)):\n",
    "    file1.write(names2[i] + \"\\n\")\n",
    "\n",
    "# close the question3.txt  file\n",
    "file1.close()\n",
    "\n",
    "# open the question3.txt file for reading\n",
    "file1 = open(\"question3.txt\", \"r\")\n",
    "\n",
    "# print list of names from file\n",
    "print(\"Names: \")\n",
    "print(file1.read())\n",
    "\n",
    "# close the question3.txt  file\n",
    "file1.close()"
   ]
  },
  {
   "cell_type": "markdown",
   "metadata": {},
   "source": [
    "## Question 4 (10 points)\n",
    "#### Download the txt file “mbox-short.txt” from the homework folder on Canvas. Write a program to read through a mail log, and figure out who had the most messages in the file. The program looks for “From” lines and takes the second parameter on those lines as the person who sent the mail. The program creates a Python dictionary that maps the sender’s address to the total number of messages for that person. After all the data has been read the program looks through the dictionary using a maximum loop to find who has the most messages and how many messages the person has."
   ]
  },
  {
   "cell_type": "code",
   "execution_count": 2,
   "metadata": {},
   "outputs": [
    {
     "name": "stdout",
     "output_type": "stream",
     "text": [
      "Enter a file name: mbox-short.txt\n",
      "cwen@iupui.edu: 10\n"
     ]
    }
   ],
   "source": [
    "# declare variables\n",
    "substring = \"From\"\n",
    "keys = []\n",
    "values = []\n",
    "res = {}\n",
    "\n",
    "\n",
    "# prompt user to select file to open\n",
    "filename = input(\"Enter a file name: \")\n",
    "\n",
    "\n",
    "# input validation\n",
    "while filename != \"mbox-short.txt\":\n",
    "    print(\"File not found.\")\n",
    "    filename = input(\"Enter a file name: \")\n",
    "\n",
    "\n",
    "# open the selected file for reading\n",
    "file = open(filename, \"r\")\n",
    "\n",
    "contents = file.readlines()\n",
    "\n",
    "\n",
    "# create and return a dictionary with emails and number of emails sent\n",
    "def makeDict(lst, sbstring):\n",
    "\n",
    "    for i in range(len(lst)):\n",
    "        if lst[i].find(sbstring) != -1:\n",
    "            key = lst[i]\n",
    "            j = key.index(\" \")\n",
    "            key = key[j:]\n",
    "            key = key.strip()\n",
    "\n",
    "            if key.find(\" \") != -1:\n",
    "                k = key.index(\" \")\n",
    "                key = key[:k]\n",
    "\n",
    "\n",
    "            keys.append(key)\n",
    "\n",
    "            value = keys.count(key)\n",
    "\n",
    "            res.update({key: value})\n",
    "\n",
    "    return res\n",
    "\n",
    "\n",
    "# determine maximum value in dictionary\n",
    "def maximum(dct):\n",
    "    maxVal = 0\n",
    "    maxKey = \"\"\n",
    "    data = {}\n",
    "\n",
    "    for key in dct:\n",
    "        if dct[key] > maxVal:\n",
    "            maxVal = dct[key]\n",
    "            maxKey = (list(dct.keys())[list(dct.values()).index(maxVal)])\n",
    "            data = {maxKey: maxVal}\n",
    "\n",
    "    return data\n",
    "\n",
    "\n",
    "#close the file\n",
    "file.close()\n",
    "\n",
    "# make the dictionary\n",
    "res = makeDict(contents, substring)\n",
    "\n",
    "# get the maximum\n",
    "highest = maximum(res)\n",
    "\n",
    "# print the results\n",
    "for key, value in highest.items():\n",
    "    print(\"{}: {}\".format(key, value))\n",
    "    \n",
    "# filename mbox-short.txt"
   ]
  },
  {
   "cell_type": "markdown",
   "metadata": {},
   "source": [
    "## Question 5 (10 points)\n",
    "#### Download the txt file “mbox-short.txt” from the homework folder on Canvas. This program counts the distribution of the hour of the day for each of the messages. You can pull the hour from the “From” line by finding the time string and then splitting that string into parts using the colon character. Once you have accumulated the counts for each hour, print out the counts, one per line, sorted by hour as shown below."
   ]
  },
  {
   "cell_type": "code",
   "execution_count": 3,
   "metadata": {},
   "outputs": [
    {
     "name": "stdout",
     "output_type": "stream",
     "text": [
      "Enter a file name: mbox-short.txt\n",
      "04: 3\n",
      "06: 1\n",
      "07: 1\n",
      "09: 2\n",
      "10: 3\n",
      "11: 6\n",
      "14: 1\n",
      "15: 2\n",
      "16: 4\n",
      "17: 2\n",
      "18: 1\n",
      "19: 1\n"
     ]
    }
   ],
   "source": [
    "#declare variables\n",
    "substring = \"From\"\n",
    "keys = []\n",
    "values = []\n",
    "res = {}\n",
    "\n",
    "\n",
    "# prompt the user to select a file to open\n",
    "filename = input(\"Enter a file name: \")\n",
    "\n",
    "\n",
    "# input validation\n",
    "while filename != \"mbox-short.txt\":\n",
    "    print(\"File not found.\")\n",
    "    filename = input(\"Enter a file name: \")\n",
    "\n",
    "\n",
    "# open the selected file for reading\n",
    "file = open(filename, \"r\")\n",
    "\n",
    "contents = file.readlines()\n",
    "\n",
    "\n",
    "# make a dictionary of hours and number of emails sent\n",
    "def makeDict(lst, sbstring):\n",
    "\n",
    "    for i in range(len(lst)):\n",
    "        if lst[i].find(sbstring) != -1:\n",
    "            key = lst[i]\n",
    "            j = key.index(\":\")\n",
    "            key = key[j-2:j]\n",
    "            # key = key.strip()\n",
    "\n",
    "            # eliminate non-numerical strings\n",
    "            if key != \"om\":\n",
    "                keys.append(key)\n",
    "                value = keys.count(key)\n",
    "                res.update({key: value})\n",
    "\n",
    "    # return dictionary\n",
    "    return res\n",
    "\n",
    "\n",
    "\n",
    "# close the file\n",
    "file.close()\n",
    "\n",
    "# create dictionary\n",
    "res = makeDict(contents, substring)\n",
    "\n",
    "# print results\n",
    "for i in sorted(res.keys()):\n",
    "     print(\"{}: {}\" .format(i, res[i]))"
   ]
  },
  {
   "cell_type": "code",
   "execution_count": null,
   "metadata": {},
   "outputs": [],
   "source": []
  }
 ],
 "metadata": {
  "kernelspec": {
   "display_name": "Python 3",
   "language": "python",
   "name": "python3"
  },
  "language_info": {
   "codemirror_mode": {
    "name": "ipython",
    "version": 3
   },
   "file_extension": ".py",
   "mimetype": "text/x-python",
   "name": "python",
   "nbconvert_exporter": "python",
   "pygments_lexer": "ipython3",
   "version": "3.8.3"
  }
 },
 "nbformat": 4,
 "nbformat_minor": 4
}
